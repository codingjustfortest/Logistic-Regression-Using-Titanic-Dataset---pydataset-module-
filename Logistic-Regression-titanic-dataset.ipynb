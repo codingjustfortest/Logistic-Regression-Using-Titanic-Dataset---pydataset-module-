{
 "cells": [
  {
   "cell_type": "code",
   "execution_count": null,
   "id": "0d91b25c-fbb3-4a28-8f75-151e3f189f88",
   "metadata": {},
   "outputs": [],
   "source": [
    "from pydataset import data\n",
    "import numpy as np\n",
    "import pandas as pd\n",
    "from sklearn.linear_model import LogisticRegression\n",
    "from sklearn.model_selection import train_test_split\n",
    "import matplotlib.pyplot as plt"
   ]
  },
  {
   "cell_type": "code",
   "execution_count": null,
   "id": "11a11bad-eeea-4fff-8980-faf5878e6482",
   "metadata": {},
   "outputs": [],
   "source": [
    "titanic = pd.read_csv('Titanic.csv', header=None)\n",
    "titanic.head(40)"
   ]
  },
  {
   "cell_type": "markdown",
   "id": "e1bfb5d6-67f2-4545-af8b-162662ba567d",
   "metadata": {},
   "source": [
    "## Feature Engineering (One hot encoding)"
   ]
  },
  {
   "cell_type": "code",
   "execution_count": null,
   "id": "f8392294-8962-45c1-a900-e4cc1f1eaabb",
   "metadata": {},
   "outputs": [],
   "source": [
    "titanic = pd.get_dummies(titanic, drop_first=True, dtype=float) #there is no class one\n",
    "titanic.sample(5)"
   ]
  },
  {
   "cell_type": "code",
   "execution_count": null,
   "id": "01e8caca-f8d2-41ac-8ad9-71c1db650b71",
   "metadata": {},
   "outputs": [],
   "source": [
    "X_train, X_test, y_train, y_test = train_test_split(titanic.drop('survived_yes', axis=1), titanic['survived_yes'])"
   ]
  },
  {
   "cell_type": "code",
   "execution_count": null,
   "id": "730af684-4e5d-49aa-95b7-be623c96af64",
   "metadata": {},
   "outputs": [],
   "source": [
    "solver='lbfgs'\n",
    "LogReg = LogisticRegression(solver=solver, max_iter=1000)\n",
    "LogReg.fit(X_train, y_train)"
   ]
  },
  {
   "cell_type": "code",
   "execution_count": null,
   "id": "e52c323f-8316-49a8-b3b1-1f084c154150",
   "metadata": {},
   "outputs": [],
   "source": [
    "#Predicting if a class-l child-age female survived\n",
    "LogReg.predict(np.array([[0, 0, 1, 1]]))[0]"
   ]
  },
  {
   "cell_type": "code",
   "execution_count": null,
   "id": "b7716b65-7bde-46c5-aff0-b9526b29b27c",
   "metadata": {},
   "outputs": [],
   "source": [
    "LogReg.score(X_test, y_test)"
   ]
  },
  {
   "cell_type": "code",
   "execution_count": null,
   "id": "edf43257-947c-416e-a4c4-053db48d31bb",
   "metadata": {},
   "outputs": [],
   "source": [
    "prediction = (LogReg.predict(X_test) > 0.5).astype(int)\n",
    "np.sum(prediction == y_test) / len(y_test)"
   ]
  },
  {
   "cell_type": "code",
   "execution_count": null,
   "id": "764c7e78-7758-4349-b1f1-9eaa0cbd34eb",
   "metadata": {},
   "outputs": [],
   "source": [
    "df_titan = pd.read_csv('Titanic.csv', header=None)\n",
    "#df_titan.head()\n",
    "df_titan"
   ]
  },
  {
   "cell_type": "code",
   "execution_count": null,
   "id": "1053ee61-6f2f-46db-9c7c-0e0ed66b419e",
   "metadata": {},
   "outputs": [],
   "source": [
    "# Preprocess the df_titan DataFrame\n",
    "df_titan = pd.get_dummies(df_titan, drop_first=True, dtype=float)\n",
    "print(df_titan)\n",
    "\n",
    "# Ensure column names match\n",
    "missing_columns = set(titanic.columns) - set(df_titan.columns)\n",
    "for column in missing_columns:\n",
    "    df_titan[column] = 0\n",
    "\n",
    "# Reorder columns to match the order in the training data\n",
    "df_titan = df_titan[titanic.drop('survived_yes', axis=1).columns]\n",
    "\n",
    "\n",
    "#Predicting if a class-l adult-age male survived\n",
    "LogReg.predict(df_titan)"
   ]
  },
  {
   "cell_type": "code",
   "execution_count": null,
   "id": "15c00693-527c-44af-b835-33a8421240a3",
   "metadata": {},
   "outputs": [],
   "source": [
    "accuracies = []\n",
    "for max_iter in range(3, 21):\n",
    "    LogReg = LogisticRegression(\n",
    "        solver='saga',\n",
    "        max_iter=max_iter,\n",
    "        random_state=42,\n",
    "        tol=1e-100\n",
    "    )\n",
    "    \n",
    "    LogReg.fit(X_train, y_train)\n",
    "    accuracy = LogReg.score(X_test, y_test)\n",
    "    accuracies.append(accuracy)"
   ]
  },
  {
   "cell_type": "code",
   "execution_count": null,
   "id": "17672b7c-d0d7-4f08-8fc3-e8b829341900",
   "metadata": {},
   "outputs": [],
   "source": [
    "plt.plot(accuracies)\n",
    "plt.show()"
   ]
  }
 ],
 "metadata": {
  "kernelspec": {
   "display_name": "Python 3 (ipykernel)",
   "language": "python",
   "name": "python3"
  },
  "language_info": {
   "codemirror_mode": {
    "name": "ipython",
    "version": 3
   },
   "file_extension": ".py",
   "mimetype": "text/x-python",
   "name": "python",
   "nbconvert_exporter": "python",
   "pygments_lexer": "ipython3",
   "version": "3.10.12"
  }
 },
 "nbformat": 4,
 "nbformat_minor": 5
}
